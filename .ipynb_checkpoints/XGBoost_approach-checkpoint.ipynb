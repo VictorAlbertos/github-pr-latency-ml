{
 "cells": [
  {
   "cell_type": "code",
   "execution_count": 15,
   "metadata": {},
   "outputs": [
    {
     "ename": "ModuleNotFoundError",
     "evalue": "No module named 'xgboost'",
     "output_type": "error",
     "traceback": [
      "\u001b[0;31m---------------------------------------------------------------------------\u001b[0m",
      "\u001b[0;31mModuleNotFoundError\u001b[0m                       Traceback (most recent call last)",
      "\u001b[0;32m<ipython-input-15-51af97ea47ce>\u001b[0m in \u001b[0;36m<module>\u001b[0;34m()\u001b[0m\n\u001b[1;32m      2\u001b[0m \u001b[0;32mfrom\u001b[0m \u001b[0mconstants\u001b[0m \u001b[0;32mimport\u001b[0m \u001b[0mdataset_EDA_path\u001b[0m\u001b[0;34m\u001b[0m\u001b[0m\n\u001b[1;32m      3\u001b[0m \u001b[0;32mfrom\u001b[0m \u001b[0msklearn\u001b[0m\u001b[0;34m.\u001b[0m\u001b[0mmodel_selection\u001b[0m \u001b[0;32mimport\u001b[0m \u001b[0mtrain_test_split\u001b[0m\u001b[0;34m\u001b[0m\u001b[0m\n\u001b[0;32m----> 4\u001b[0;31m \u001b[0;32mfrom\u001b[0m \u001b[0mxgboost\u001b[0m \u001b[0;32mimport\u001b[0m \u001b[0mXGBRegressor\u001b[0m\u001b[0;34m\u001b[0m\u001b[0m\n\u001b[0m\u001b[1;32m      5\u001b[0m \u001b[0;32mimport\u001b[0m \u001b[0mnumpy\u001b[0m \u001b[0;32mas\u001b[0m \u001b[0mnp\u001b[0m\u001b[0;34m\u001b[0m\u001b[0m\n\u001b[1;32m      6\u001b[0m \u001b[0;32mimport\u001b[0m \u001b[0mmatplotlib\u001b[0m\u001b[0;34m.\u001b[0m\u001b[0mpyplot\u001b[0m \u001b[0;32mas\u001b[0m \u001b[0mplt\u001b[0m\u001b[0;34m\u001b[0m\u001b[0m\n",
      "\u001b[0;31mModuleNotFoundError\u001b[0m: No module named 'xgboost'"
     ]
    }
   ],
   "source": [
    "import pandas as pd\n",
    "from constants import dataset_EDA_path\n",
    "from sklearn.model_selection import train_test_split\n",
    "from xgboost import XGBRegressor\n",
    "import numpy as np\n",
    "import matplotlib.pyplot as plt\n",
    "%matplotlib inline\n",
    "\n",
    "import seaborn as sns\n",
    "sns.set()"
   ]
  },
  {
   "cell_type": "code",
   "execution_count": 6,
   "metadata": {},
   "outputs": [
    {
     "data": {
      "text/html": [
       "<div>\n",
       "<style scoped>\n",
       "    .dataframe tbody tr th:only-of-type {\n",
       "        vertical-align: middle;\n",
       "    }\n",
       "\n",
       "    .dataframe tbody tr th {\n",
       "        vertical-align: top;\n",
       "    }\n",
       "\n",
       "    .dataframe thead th {\n",
       "        text-align: right;\n",
       "    }\n",
       "</style>\n",
       "<table border=\"1\" class=\"dataframe\">\n",
       "  <thead>\n",
       "    <tr style=\"text-align: right;\">\n",
       "      <th></th>\n",
       "      <th>repo</th>\n",
       "      <th>language</th>\n",
       "      <th>author</th>\n",
       "      <th>title</th>\n",
       "      <th>body</th>\n",
       "      <th>created_at</th>\n",
       "      <th>closed_at</th>\n",
       "      <th>authors_in_comments</th>\n",
       "      <th>reviews</th>\n",
       "      <th>labels</th>\n",
       "      <th>...</th>\n",
       "      <th>changes</th>\n",
       "      <th>title_count</th>\n",
       "      <th>body_count</th>\n",
       "      <th>labels_count</th>\n",
       "      <th>commits_count</th>\n",
       "      <th>latency</th>\n",
       "      <th>pull_requests_neighbours_latency</th>\n",
       "      <th>pull_requests_neighbours_count</th>\n",
       "      <th>changes_commit_ratio</th>\n",
       "      <th>add_delete_diff</th>\n",
       "    </tr>\n",
       "  </thead>\n",
       "  <tbody>\n",
       "    <tr>\n",
       "      <th>10313</th>\n",
       "      <td>react</td>\n",
       "      <td>js</td>\n",
       "      <td>bvaughn</td>\n",
       "      <td>Add noop useDebugValue hook to partial/server ...</td>\n",
       "      <td>NaN</td>\n",
       "      <td>2019-01-15 16:50:08</td>\n",
       "      <td>2019-01-15 19:00:04</td>\n",
       "      <td>['gaearon', 'bvaughn']</td>\n",
       "      <td>['APPROVED']</td>\n",
       "      <td>['CLA Signed']</td>\n",
       "      <td>...</td>\n",
       "      <td>16</td>\n",
       "      <td>54</td>\n",
       "      <td>0</td>\n",
       "      <td>1</td>\n",
       "      <td>1</td>\n",
       "      <td>130</td>\n",
       "      <td>1309</td>\n",
       "      <td>7</td>\n",
       "      <td>0.0625</td>\n",
       "      <td>16</td>\n",
       "    </tr>\n",
       "    <tr>\n",
       "      <th>10314</th>\n",
       "      <td>react</td>\n",
       "      <td>js</td>\n",
       "      <td>bvaughn</td>\n",
       "      <td>useDebugValue should throw if used in a class ...</td>\n",
       "      <td>NaN</td>\n",
       "      <td>2019-01-15 21:19:24</td>\n",
       "      <td>2019-01-15 21:49:40</td>\n",
       "      <td>[]</td>\n",
       "      <td>['APPROVED', 'APPROVED']</td>\n",
       "      <td>['CLA Signed']</td>\n",
       "      <td>...</td>\n",
       "      <td>20</td>\n",
       "      <td>55</td>\n",
       "      <td>0</td>\n",
       "      <td>1</td>\n",
       "      <td>1</td>\n",
       "      <td>30</td>\n",
       "      <td>1309</td>\n",
       "      <td>7</td>\n",
       "      <td>0.0500</td>\n",
       "      <td>20</td>\n",
       "    </tr>\n",
       "  </tbody>\n",
       "</table>\n",
       "<p>2 rows × 25 columns</p>\n",
       "</div>"
      ],
      "text/plain": [
       "        repo language   author  \\\n",
       "10313  react       js  bvaughn   \n",
       "10314  react       js  bvaughn   \n",
       "\n",
       "                                                   title body  \\\n",
       "10313  Add noop useDebugValue hook to partial/server ...  NaN   \n",
       "10314  useDebugValue should throw if used in a class ...  NaN   \n",
       "\n",
       "                created_at            closed_at     authors_in_comments  \\\n",
       "10313  2019-01-15 16:50:08  2019-01-15 19:00:04  ['gaearon', 'bvaughn']   \n",
       "10314  2019-01-15 21:19:24  2019-01-15 21:49:40                      []   \n",
       "\n",
       "                        reviews          labels       ...         changes  \\\n",
       "10313              ['APPROVED']  ['CLA Signed']       ...              16   \n",
       "10314  ['APPROVED', 'APPROVED']  ['CLA Signed']       ...              20   \n",
       "\n",
       "       title_count  body_count labels_count commits_count  latency  \\\n",
       "10313           54           0            1             1      130   \n",
       "10314           55           0            1             1       30   \n",
       "\n",
       "       pull_requests_neighbours_latency  pull_requests_neighbours_count  \\\n",
       "10313                              1309                               7   \n",
       "10314                              1309                               7   \n",
       "\n",
       "       changes_commit_ratio  add_delete_diff  \n",
       "10313                0.0625               16  \n",
       "10314                0.0500               20  \n",
       "\n",
       "[2 rows x 25 columns]"
      ]
     },
     "execution_count": 6,
     "metadata": {},
     "output_type": "execute_result"
    }
   ],
   "source": [
    "df = pd.read_csv(dataset_EDA_path)\n",
    "df.tail(2)"
   ]
  },
  {
   "cell_type": "code",
   "execution_count": 12,
   "metadata": {},
   "outputs": [],
   "source": [
    "y = df.latency\n",
    "X = df.drop(['latency'], axis=1).select_dtypes(exclude=['object'])\n",
    "train_X, test_X, train_y, test_y = train_test_split(X.as_matrix(), y.as_matrix(), test_size=0.25)"
   ]
  },
  {
   "cell_type": "code",
   "execution_count": 14,
   "metadata": {},
   "outputs": [
    {
     "data": {
      "text/plain": [
       "(2579, 12)"
      ]
     },
     "execution_count": 14,
     "metadata": {},
     "output_type": "execute_result"
    }
   ],
   "source": []
  },
  {
   "cell_type": "code",
   "execution_count": null,
   "metadata": {},
   "outputs": [],
   "source": []
  }
 ],
 "metadata": {
  "kernelspec": {
   "display_name": "Python 3",
   "language": "python",
   "name": "python3"
  },
  "language_info": {
   "codemirror_mode": {
    "name": "ipython",
    "version": 3
   },
   "file_extension": ".py",
   "mimetype": "text/x-python",
   "name": "python",
   "nbconvert_exporter": "python",
   "pygments_lexer": "ipython3",
   "version": "3.6.4"
  }
 },
 "nbformat": 4,
 "nbformat_minor": 2
}
