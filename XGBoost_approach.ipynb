{
 "cells": [
  {
   "cell_type": "code",
   "execution_count": 347,
   "metadata": {},
   "outputs": [],
   "source": [
    "import pandas as pd\n",
    "from constants import dataset_EDA_path\n",
    "from sklearn.model_selection import train_test_split\n",
    "from sklearn.metrics import *\n",
    "from sklearn.preprocessing import MinMaxScaler\n",
    "from xgboost import XGBRegressor, XGBClassifier\n",
    "from xgboost import plot_importance\n",
    "import numpy as np\n",
    "import matplotlib.pyplot as plt\n",
    "from matplotlib.pyplot import figure\n",
    "%matplotlib inline\n",
    "import xgboost as xgb\n",
    "\n",
    "import seaborn as sns\n",
    "sns.set()"
   ]
  },
  {
   "cell_type": "code",
   "execution_count": 546,
   "metadata": {},
   "outputs": [],
   "source": [
    "df = pd.read_csv(dataset_EDA_path)\n",
    "#df = df[df.pull_requests_neighbours_count > 20]\n",
    "#df.describe() "
   ]
  },
  {
   "cell_type": "code",
   "execution_count": 550,
   "metadata": {},
   "outputs": [
    {
     "data": {
      "text/plain": [
       "0    4129\n",
       "1    4125\n",
       "2    2061\n",
       "Name: latency, dtype: int64"
      ]
     },
     "execution_count": 550,
     "metadata": {},
     "output_type": "execute_result"
    }
   ],
   "source": [
    "adjusted_latency = (df['latency'] / (df.pull_requests_neighbours_latency / df.pull_requests_neighbours_count)).values\n",
    "df['latency'] = pd.qcut(df['latency'], 3, labels=False) #[0 if x < 1 else 1 for x in adjusted_latency]\n",
    "df['latency'].value_counts()"
   ]
  },
  {
   "cell_type": "code",
   "execution_count": 479,
   "metadata": {},
   "outputs": [],
   "source": [
    "def adjust_latency(df):\n",
    "    df['adj_latency'] = df.latency / (df.pull_requests_neighbours_latency / df.pull_requests_neighbours_count)\n",
    "    df['latency'] = df['adj_latency']\n",
    "    return df.drop(['adj_latency', 'pull_requests_neighbours_latency', 'pull_requests_neighbours_count'], axis=1)\n",
    "\n",
    "#df= adjust_latency(df)\n",
    "#df.describe()"
   ]
  },
  {
   "cell_type": "code",
   "execution_count": 553,
   "metadata": {},
   "outputs": [],
   "source": [
    "y = df.latency\n",
    "X = df.drop(['latency'], axis=1).select_dtypes(exclude=['object'])\n",
    "#X = df.drop(['latency', 'body_count', 'title_count', 'pull_requests_neighbours_latency', 'pull_requests_neighbours_count'], axis=1).select_dtypes(exclude=['object'])\n",
    "#X = df[['additions','deletions', 'commits_count']] \n",
    "scaler = MinMaxScaler()\n",
    "\n",
    "train_X, test_X, train_y, test_y = train_test_split(X.as_matrix(), y.as_matrix(), test_size=0.25)\n",
    "\n",
    "train_X = scaler.fit_transform(train_X)\n",
    "test_X = scaler.transform(test_X)"
   ]
  },
  {
   "cell_type": "code",
   "execution_count": 551,
   "metadata": {},
   "outputs": [
    {
     "name": "stdout",
     "output_type": "stream",
     "text": [
      "RMSE: 1.354736468010619 minutes\n",
      "RMSE: 0.02257894113351032 hours\n"
     ]
    }
   ],
   "source": [
    "model = XGBRegressor(n_estimators=1000, learning_rate=0.1, booster='gbtree', max_depth=3, min_child_weight=1)\n",
    "model.fit(train_X, train_y, early_stopping_rounds=5, eval_set=[(test_X, test_y)], verbose=False)\n",
    "\n",
    "preds = model.predict(test_X)\n",
    "rmse = np.sqrt(mean_squared_error(test_y, preds))\n",
    "print(f\"RMSE: {rmse} minutes\")\n",
    "print(f\"RMSE: {rmse/60} hours\")\n",
    "\n",
    "#figure(num=None, figsize=(15, 5))\n",
    "#plt.hist(test_y[:100]/60-preds[:100]/60);"
   ]
  },
  {
   "cell_type": "code",
   "execution_count": 554,
   "metadata": {},
   "outputs": [
    {
     "name": "stderr",
     "output_type": "stream",
     "text": [
      "/anaconda3/lib/python3.6/site-packages/sklearn/preprocessing/label.py:151: DeprecationWarning: The truth value of an empty array is ambiguous. Returning False, but in future this will result in an error. Use `array.size > 0` to check that an array is not empty.\n",
      "  if diff:\n"
     ]
    },
    {
     "data": {
      "text/plain": [
       "0.46490887941062425"
      ]
     },
     "execution_count": 554,
     "metadata": {},
     "output_type": "execute_result"
    }
   ],
   "source": [
    "model = XGBClassifier(n_estimators=1000, learning_rate=0.1, max_depth=3, min_child_weight=1)\n",
    "model.fit(train_X, train_y, early_stopping_rounds=5, eval_set=[(test_X, test_y)], verbose=False)\n",
    "\n",
    "preds = model.predict(test_X)\n",
    "accuracy_score(test_y, preds)"
   ]
  },
  {
   "cell_type": "code",
   "execution_count": null,
   "metadata": {},
   "outputs": [],
   "source": []
  },
  {
   "cell_type": "code",
   "execution_count": 555,
   "metadata": {},
   "outputs": [
    {
     "data": {
      "image/png": "[encoded data removed]",
      "text/plain": [
       "<matplotlib.figure.Figure at 0x1a29513c88>"
      ]
     },
     "metadata": {},
     "output_type": "display_data"
    }
   ],
   "source": [
    "#fig, ax = plt.subplots(1,1,figsize=(10,10))\n",
    "#xgb.plot_importance(model, max_num_features=15, ax=ax)\n",
    "#[f'{column}: f{i}' for i, column in enumerate(X.columns.values)]\n",
    "\n",
    "fig, ax = plt.subplots()\n",
    "features_name = X.columns.values\n",
    "y_pos = np.arange(len(features_name))\n",
    "\n",
    "ax.set_yticks(y_pos)\n",
    "ax.set_yticklabels(features_name)\n",
    "ax.barh(y_pos, model.feature_importances_);"
   ]
  },
  {
   "cell_type": "code",
   "execution_count": null,
   "metadata": {},
   "outputs": [],
   "source": [
    "# shit \n",
    "adjusted_latency = (df['latency'] / (df.pull_requests_neighbours_latency / df.pull_requests_neighbours_count)).values\n",
    "df['latency'] = adjusted_latency#[0 if x < 1 else 1 for x in adjusted_latency]\n",
    "df['test'] = pd.qcut(df['latency'], 2, labels=False)\n",
    "#df.groupby(['test']).mean()\n",
    "\n",
    "df.groupBy('latency')['latency'].max().latency"
   ]
  },
  {
   "cell_type": "code",
   "execution_count": null,
   "metadata": {},
   "outputs": [],
   "source": []
  }
 ],
 "metadata": {
  "kernelspec": {
   "display_name": "Python 3",
   "language": "python",
   "name": "python3"
  },
  "language_info": {
   "codemirror_mode": {
    "name": "ipython",
    "version": 3
   },
   "file_extension": ".py",
   "mimetype": "text/x-python",
   "name": "python",
   "nbconvert_exporter": "python",
   "pygments_lexer": "ipython3",
   "version": "3.6.4"
  }
 },
 "nbformat": 4,
 "nbformat_minor": 2
}
