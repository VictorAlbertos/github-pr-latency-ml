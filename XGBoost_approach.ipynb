{
 "cells": [
  {
   "cell_type": "code",
   "execution_count": 59,
   "metadata": {},
   "outputs": [],
   "source": [
    "import warnings\n",
    "warnings.filterwarnings('ignore')\n",
    "\n",
    "from constants import dataset_EDA_path\n",
    "\n",
    "import pandas as pd\n",
    "\n",
    "from sklearn.model_selection import train_test_split\n",
    "from sklearn.metrics import *\n",
    "\n",
    "import xgboost as xgb\n",
    "from xgboost import XGBRegressor, XGBClassifier\n",
    "from xgboost import plot_importance\n",
    "\n",
    "import numpy as np\n",
    "\n",
    "import seaborn as sns\n",
    "import matplotlib.pyplot as plt\n",
    "%matplotlib inline\n",
    "\n",
    "sns.set()"
   ]
  },
  {
   "cell_type": "code",
   "execution_count": 65,
   "metadata": {},
   "outputs": [
    {
     "data": {
      "text/html": [
       "<div>\n",
       "<style scoped>\n",
       "    .dataframe tbody tr th:only-of-type {\n",
       "        vertical-align: middle;\n",
       "    }\n",
       "\n",
       "    .dataframe tbody tr th {\n",
       "        vertical-align: top;\n",
       "    }\n",
       "\n",
       "    .dataframe thead th {\n",
       "        text-align: right;\n",
       "    }\n",
       "</style>\n",
       "<table border=\"1\" class=\"dataframe\">\n",
       "  <thead>\n",
       "    <tr style=\"text-align: right;\">\n",
       "      <th></th>\n",
       "      <th>additions</th>\n",
       "      <th>deletions</th>\n",
       "      <th>changed_files</th>\n",
       "      <th>title_count</th>\n",
       "      <th>body_count</th>\n",
       "      <th>labels_count</th>\n",
       "      <th>commits_count</th>\n",
       "      <th>latency</th>\n",
       "      <th>pull_requests_neighbours_latency</th>\n",
       "      <th>pull_requests_neighbours_count</th>\n",
       "    </tr>\n",
       "  </thead>\n",
       "  <tbody>\n",
       "    <tr>\n",
       "      <th>count</th>\n",
       "      <td>10315.000000</td>\n",
       "      <td>10315.000000</td>\n",
       "      <td>10315.000000</td>\n",
       "      <td>10315.000000</td>\n",
       "      <td>10315.000000</td>\n",
       "      <td>10315.000000</td>\n",
       "      <td>10315.000000</td>\n",
       "      <td>10315.000000</td>\n",
       "      <td>10315.000000</td>\n",
       "      <td>10315.000000</td>\n",
       "    </tr>\n",
       "    <tr>\n",
       "      <th>mean</th>\n",
       "      <td>61.074939</td>\n",
       "      <td>32.958216</td>\n",
       "      <td>3.685894</td>\n",
       "      <td>41.963451</td>\n",
       "      <td>425.313912</td>\n",
       "      <td>1.233446</td>\n",
       "      <td>2.196219</td>\n",
       "      <td>499.698206</td>\n",
       "      <td>9974.096171</td>\n",
       "      <td>23.852545</td>\n",
       "    </tr>\n",
       "    <tr>\n",
       "      <th>std</th>\n",
       "      <td>152.354485</td>\n",
       "      <td>107.010937</td>\n",
       "      <td>5.394791</td>\n",
       "      <td>15.969433</td>\n",
       "      <td>1371.715284</td>\n",
       "      <td>0.875067</td>\n",
       "      <td>3.285002</td>\n",
       "      <td>469.321735</td>\n",
       "      <td>6128.928393</td>\n",
       "      <td>15.045309</td>\n",
       "    </tr>\n",
       "    <tr>\n",
       "      <th>min</th>\n",
       "      <td>0.000000</td>\n",
       "      <td>0.000000</td>\n",
       "      <td>1.000000</td>\n",
       "      <td>4.000000</td>\n",
       "      <td>0.000000</td>\n",
       "      <td>0.000000</td>\n",
       "      <td>0.000000</td>\n",
       "      <td>1.000000</td>\n",
       "      <td>110.000000</td>\n",
       "      <td>5.000000</td>\n",
       "    </tr>\n",
       "    <tr>\n",
       "      <th>25%</th>\n",
       "      <td>2.000000</td>\n",
       "      <td>1.000000</td>\n",
       "      <td>1.000000</td>\n",
       "      <td>31.000000</td>\n",
       "      <td>73.000000</td>\n",
       "      <td>1.000000</td>\n",
       "      <td>1.000000</td>\n",
       "      <td>66.000000</td>\n",
       "      <td>5624.500000</td>\n",
       "      <td>12.000000</td>\n",
       "    </tr>\n",
       "    <tr>\n",
       "      <th>50%</th>\n",
       "      <td>10.000000</td>\n",
       "      <td>3.000000</td>\n",
       "      <td>2.000000</td>\n",
       "      <td>41.000000</td>\n",
       "      <td>217.000000</td>\n",
       "      <td>1.000000</td>\n",
       "      <td>1.000000</td>\n",
       "      <td>331.000000</td>\n",
       "      <td>8975.000000</td>\n",
       "      <td>21.000000</td>\n",
       "    </tr>\n",
       "    <tr>\n",
       "      <th>75%</th>\n",
       "      <td>50.000000</td>\n",
       "      <td>17.000000</td>\n",
       "      <td>4.000000</td>\n",
       "      <td>51.000000</td>\n",
       "      <td>519.000000</td>\n",
       "      <td>2.000000</td>\n",
       "      <td>2.000000</td>\n",
       "      <td>917.000000</td>\n",
       "      <td>13175.000000</td>\n",
       "      <td>32.000000</td>\n",
       "    </tr>\n",
       "    <tr>\n",
       "      <th>max</th>\n",
       "      <td>1953.000000</td>\n",
       "      <td>1769.000000</td>\n",
       "      <td>49.000000</td>\n",
       "      <td>146.000000</td>\n",
       "      <td>64124.000000</td>\n",
       "      <td>8.000000</td>\n",
       "      <td>50.000000</td>\n",
       "      <td>1440.000000</td>\n",
       "      <td>47312.000000</td>\n",
       "      <td>132.000000</td>\n",
       "    </tr>\n",
       "  </tbody>\n",
       "</table>\n",
       "</div>"
      ],
      "text/plain": [
       "          additions     deletions  changed_files   title_count    body_count  \\\n",
       "count  10315.000000  10315.000000   10315.000000  10315.000000  10315.000000   \n",
       "mean      61.074939     32.958216       3.685894     41.963451    425.313912   \n",
       "std      152.354485    107.010937       5.394791     15.969433   1371.715284   \n",
       "min        0.000000      0.000000       1.000000      4.000000      0.000000   \n",
       "25%        2.000000      1.000000       1.000000     31.000000     73.000000   \n",
       "50%       10.000000      3.000000       2.000000     41.000000    217.000000   \n",
       "75%       50.000000     17.000000       4.000000     51.000000    519.000000   \n",
       "max     1953.000000   1769.000000      49.000000    146.000000  64124.000000   \n",
       "\n",
       "       labels_count  commits_count       latency  \\\n",
       "count  10315.000000   10315.000000  10315.000000   \n",
       "mean       1.233446       2.196219    499.698206   \n",
       "std        0.875067       3.285002    469.321735   \n",
       "min        0.000000       0.000000      1.000000   \n",
       "25%        1.000000       1.000000     66.000000   \n",
       "50%        1.000000       1.000000    331.000000   \n",
       "75%        2.000000       2.000000    917.000000   \n",
       "max        8.000000      50.000000   1440.000000   \n",
       "\n",
       "       pull_requests_neighbours_latency  pull_requests_neighbours_count  \n",
       "count                      10315.000000                    10315.000000  \n",
       "mean                        9974.096171                       23.852545  \n",
       "std                         6128.928393                       15.045309  \n",
       "min                          110.000000                        5.000000  \n",
       "25%                         5624.500000                       12.000000  \n",
       "50%                         8975.000000                       21.000000  \n",
       "75%                        13175.000000                       32.000000  \n",
       "max                        47312.000000                      132.000000  "
      ]
     },
     "execution_count": 65,
     "metadata": {},
     "output_type": "execute_result"
    }
   ],
   "source": [
    "df = pd.read_csv(dataset_EDA_path)\n",
    "df.describe() "
   ]
  },
  {
   "cell_type": "code",
   "execution_count": 61,
   "metadata": {},
   "outputs": [],
   "source": [
    "def plot_feature_importance(model, X):\n",
    "    features_name = X.columns.values\n",
    "    y_pos = np.arange(len(features_name))\n",
    "\n",
    "    _, ax = plt.subplots()\n",
    "\n",
    "    ax.set_yticks(y_pos)\n",
    "    ax.set_yticklabels(features_name)\n",
    "    ax.barh(y_pos, model.feature_importances_);"
   ]
  },
  {
   "cell_type": "markdown",
   "metadata": {},
   "source": [
    "### Regression analysis "
   ]
  },
  {
   "cell_type": "code",
   "execution_count": 62,
   "metadata": {},
   "outputs": [
    {
     "name": "stdout",
     "output_type": "stream",
     "text": [
      "RMSE: 450.0 minutes\n",
      "RMSE: 7.5 hours\n"
     ]
    },
    {
     "data": {
      "image/png": "[encoded data removed]",
      "text/plain": [
       "<matplotlib.figure.Figure at 0x10f631da0>"
      ]
     },
     "metadata": {},
     "output_type": "display_data"
    }
   ],
   "source": [
    "y = df.latency\n",
    "X = df.drop(['latency'], axis=1).select_dtypes(exclude=['object'])\n",
    "train_X, test_X, train_y, test_y = train_test_split(X.as_matrix(), y.as_matrix(), test_size=0.25)\n",
    "\n",
    "model = XGBRegressor(n_estimators=1000, learning_rate=0.1, booster='gbtree', max_depth=3, min_child_weight=1)\n",
    "model.fit(train_X, train_y, early_stopping_rounds=5, eval_set=[(test_X, test_y)], verbose=False)\n",
    "\n",
    "rmse = round(np.sqrt(mean_squared_error(test_y, model.predict(test_X))))\n",
    "print(f\"RMSE: {rmse} minutes\")\n",
    "print(f\"RMSE: {rmse/60} hours\")\n",
    "plot_feature_importance(model, X)"
   ]
  },
  {
   "cell_type": "markdown",
   "metadata": {},
   "source": [
    "### Categorical analysis"
   ]
  },
  {
   "cell_type": "code",
   "execution_count": 63,
   "metadata": {},
   "outputs": [
    {
     "name": "stdout",
     "output_type": "stream",
     "text": [
      "Accuracy: 0.6 %\n"
     ]
    },
    {
     "data": {
      "image/png": "[encoded data removed]",
      "text/plain": [
       "<matplotlib.figure.Figure at 0x10f6316a0>"
      ]
     },
     "metadata": {},
     "output_type": "display_data"
    }
   ],
   "source": [
    "normalized_latency = (df['latency'] / (df.pull_requests_neighbours_latency / df.pull_requests_neighbours_count)).values\n",
    "df['normalized_latency'] = [0 if x < 1 else 1 for x in normalized_latency]\n",
    "\n",
    "y = df.normalized_latency\n",
    "X = df.drop(['latency', 'normalized_latency'], axis=1).select_dtypes(exclude=['object'])\n",
    "train_X, test_X, train_y, test_y = train_test_split(X.as_matrix(), y.as_matrix(), test_size=0.25)\n",
    "\n",
    "model = XGBClassifier(n_estimators=1000, learning_rate=0.1, max_depth=3, min_child_weight=1)\n",
    "model.fit(train_X, train_y, early_stopping_rounds=5, eval_set=[(test_X, test_y)], verbose=False)\n",
    "\n",
    "acc = round(accuracy_score(test_y, model.predict(test_X)), 2)\n",
    "print(f\"Accuracy: {acc} %\")\n",
    "plot_feature_importance(model, X)"
   ]
  }
 ],
 "metadata": {
  "kernelspec": {
   "display_name": "Python 3",
   "language": "python",
   "name": "python3"
  },
  "language_info": {
   "codemirror_mode": {
    "name": "ipython",
    "version": 3
   },
   "file_extension": ".py",
   "mimetype": "text/x-python",
   "name": "python",
   "nbconvert_exporter": "python",
   "pygments_lexer": "ipython3",
   "version": "3.6.4"
  }
 },
 "nbformat": 4,
 "nbformat_minor": 2
}
