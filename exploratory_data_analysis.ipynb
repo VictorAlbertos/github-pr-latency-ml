{
 "cells": [
  {
   "cell_type": "code",
   "execution_count": 66,
   "metadata": {},
   "outputs": [],
   "source": [
    "import pandas as pd\n",
    "from constants import dataset_path\n",
    "%matplotlib inline  \n",
    "import seaborn as sns\n",
    "sns.set()"
   ]
  },
  {
   "cell_type": "code",
   "execution_count": 67,
   "metadata": {},
   "outputs": [],
   "source": [
    "df = pd.read_csv(dataset_path)"
   ]
  },
  {
   "cell_type": "code",
   "execution_count": 18,
   "metadata": {},
   "outputs": [
    {
     "data": {
      "text/plain": [
       "(11333, 22)"
      ]
     },
     "execution_count": 18,
     "metadata": {},
     "output_type": "execute_result"
    }
   ],
   "source": [
    "df.shape"
   ]
  },
  {
   "cell_type": "code",
   "execution_count": 21,
   "metadata": {},
   "outputs": [
    {
     "data": {
      "text/html": [
       "<div>\n",
       "<style scoped>\n",
       "    .dataframe tbody tr th:only-of-type {\n",
       "        vertical-align: middle;\n",
       "    }\n",
       "\n",
       "    .dataframe tbody tr th {\n",
       "        vertical-align: top;\n",
       "    }\n",
       "\n",
       "    .dataframe thead th {\n",
       "        text-align: right;\n",
       "    }\n",
       "</style>\n",
       "<table border=\"1\" class=\"dataframe\">\n",
       "  <thead>\n",
       "    <tr style=\"text-align: right;\">\n",
       "      <th></th>\n",
       "      <th>repo</th>\n",
       "      <th>language</th>\n",
       "      <th>author</th>\n",
       "      <th>title</th>\n",
       "      <th>body</th>\n",
       "      <th>created_at</th>\n",
       "      <th>closed_at</th>\n",
       "      <th>authors_in_comments</th>\n",
       "      <th>reviews</th>\n",
       "      <th>labels</th>\n",
       "      <th>...</th>\n",
       "      <th>changed_files</th>\n",
       "      <th>commits</th>\n",
       "      <th>diff_file_url</th>\n",
       "      <th>title_count</th>\n",
       "      <th>body_count</th>\n",
       "      <th>labels_count</th>\n",
       "      <th>commits_count</th>\n",
       "      <th>latency</th>\n",
       "      <th>pull_requests_neighbours_latency</th>\n",
       "      <th>pull_requests_neighbours_count</th>\n",
       "    </tr>\n",
       "  </thead>\n",
       "  <tbody>\n",
       "    <tr>\n",
       "      <th>11331</th>\n",
       "      <td>react</td>\n",
       "      <td>js</td>\n",
       "      <td>bvaughn</td>\n",
       "      <td>Add noop useDebugValue hook to partial/server ...</td>\n",
       "      <td>NaN</td>\n",
       "      <td>2019-01-15 16:50:08</td>\n",
       "      <td>2019-01-15 19:00:04</td>\n",
       "      <td>['gaearon', 'bvaughn']</td>\n",
       "      <td>['APPROVED']</td>\n",
       "      <td>['CLA Signed']</td>\n",
       "      <td>...</td>\n",
       "      <td>2</td>\n",
       "      <td>['Add noop useDebugValue hook to partial/serve...</td>\n",
       "      <td>https://github.com/facebook/react/pull/14597.diff</td>\n",
       "      <td>54</td>\n",
       "      <td>0</td>\n",
       "      <td>1</td>\n",
       "      <td>1</td>\n",
       "      <td>130</td>\n",
       "      <td>1309</td>\n",
       "      <td>7</td>\n",
       "    </tr>\n",
       "    <tr>\n",
       "      <th>11332</th>\n",
       "      <td>react</td>\n",
       "      <td>js</td>\n",
       "      <td>bvaughn</td>\n",
       "      <td>useDebugValue should throw if used in a class ...</td>\n",
       "      <td>NaN</td>\n",
       "      <td>2019-01-15 21:19:24</td>\n",
       "      <td>2019-01-15 21:49:40</td>\n",
       "      <td>[]</td>\n",
       "      <td>['APPROVED', 'APPROVED']</td>\n",
       "      <td>['CLA Signed']</td>\n",
       "      <td>...</td>\n",
       "      <td>2</td>\n",
       "      <td>['useDebugValue should throw if used in a clas...</td>\n",
       "      <td>https://github.com/facebook/react/pull/14601.diff</td>\n",
       "      <td>55</td>\n",
       "      <td>0</td>\n",
       "      <td>1</td>\n",
       "      <td>1</td>\n",
       "      <td>30</td>\n",
       "      <td>1309</td>\n",
       "      <td>7</td>\n",
       "    </tr>\n",
       "  </tbody>\n",
       "</table>\n",
       "<p>2 rows × 22 columns</p>\n",
       "</div>"
      ],
      "text/plain": [
       "        repo language   author  \\\n",
       "11331  react       js  bvaughn   \n",
       "11332  react       js  bvaughn   \n",
       "\n",
       "                                                   title body  \\\n",
       "11331  Add noop useDebugValue hook to partial/server ...  NaN   \n",
       "11332  useDebugValue should throw if used in a class ...  NaN   \n",
       "\n",
       "                created_at            closed_at     authors_in_comments  \\\n",
       "11331  2019-01-15 16:50:08  2019-01-15 19:00:04  ['gaearon', 'bvaughn']   \n",
       "11332  2019-01-15 21:19:24  2019-01-15 21:49:40                      []   \n",
       "\n",
       "                        reviews          labels  \\\n",
       "11331              ['APPROVED']  ['CLA Signed']   \n",
       "11332  ['APPROVED', 'APPROVED']  ['CLA Signed']   \n",
       "\n",
       "                    ...                changed_files  \\\n",
       "11331               ...                            2   \n",
       "11332               ...                            2   \n",
       "\n",
       "                                                 commits  \\\n",
       "11331  ['Add noop useDebugValue hook to partial/serve...   \n",
       "11332  ['useDebugValue should throw if used in a clas...   \n",
       "\n",
       "                                           diff_file_url title_count  \\\n",
       "11331  https://github.com/facebook/react/pull/14597.diff          54   \n",
       "11332  https://github.com/facebook/react/pull/14601.diff          55   \n",
       "\n",
       "      body_count  labels_count  commits_count  latency  \\\n",
       "11331          0             1              1      130   \n",
       "11332          0             1              1       30   \n",
       "\n",
       "       pull_requests_neighbours_latency  pull_requests_neighbours_count  \n",
       "11331                              1309                               7  \n",
       "11332                              1309                               7  \n",
       "\n",
       "[2 rows x 22 columns]"
      ]
     },
     "execution_count": 21,
     "metadata": {},
     "output_type": "execute_result"
    }
   ],
   "source": [
    "df.tail(2)"
   ]
  },
  {
   "cell_type": "code",
   "execution_count": 72,
   "metadata": {},
   "outputs": [
    {
     "data": {
      "text/html": [
       "<div>\n",
       "<style scoped>\n",
       "    .dataframe tbody tr th:only-of-type {\n",
       "        vertical-align: middle;\n",
       "    }\n",
       "\n",
       "    .dataframe tbody tr th {\n",
       "        vertical-align: top;\n",
       "    }\n",
       "\n",
       "    .dataframe thead th {\n",
       "        text-align: right;\n",
       "    }\n",
       "</style>\n",
       "<table border=\"1\" class=\"dataframe\">\n",
       "  <thead>\n",
       "    <tr style=\"text-align: right;\">\n",
       "      <th></th>\n",
       "      <th>additions</th>\n",
       "      <th>deletions</th>\n",
       "      <th>changed_files</th>\n",
       "      <th>changes</th>\n",
       "      <th>title_count</th>\n",
       "      <th>body_count</th>\n",
       "      <th>labels_count</th>\n",
       "      <th>commits_count</th>\n",
       "      <th>latency</th>\n",
       "      <th>pull_requests_neighbours_latency</th>\n",
       "      <th>pull_requests_neighbours_count</th>\n",
       "    </tr>\n",
       "  </thead>\n",
       "  <tbody>\n",
       "    <tr>\n",
       "      <th>count</th>\n",
       "      <td>11333.000000</td>\n",
       "      <td>11333.000000</td>\n",
       "      <td>11333.000000</td>\n",
       "      <td>11333.000000</td>\n",
       "      <td>11333.000000</td>\n",
       "      <td>11333.000000</td>\n",
       "      <td>11333.000000</td>\n",
       "      <td>11333.000000</td>\n",
       "      <td>11333.000000</td>\n",
       "      <td>11333.000000</td>\n",
       "      <td>11333.000000</td>\n",
       "    </tr>\n",
       "    <tr>\n",
       "      <th>mean</th>\n",
       "      <td>646.326215</td>\n",
       "      <td>465.484779</td>\n",
       "      <td>16.003177</td>\n",
       "      <td>1111.810994</td>\n",
       "      <td>41.502691</td>\n",
       "      <td>603.187064</td>\n",
       "      <td>1.270273</td>\n",
       "      <td>2.670431</td>\n",
       "      <td>506.817171</td>\n",
       "      <td>9613.944763</td>\n",
       "      <td>22.880261</td>\n",
       "    </tr>\n",
       "    <tr>\n",
       "      <th>std</th>\n",
       "      <td>8291.635919</td>\n",
       "      <td>6363.613333</td>\n",
       "      <td>137.754640</td>\n",
       "      <td>14073.164104</td>\n",
       "      <td>16.031603</td>\n",
       "      <td>2773.376253</td>\n",
       "      <td>0.930290</td>\n",
       "      <td>5.498324</td>\n",
       "      <td>471.634245</td>\n",
       "      <td>6216.029588</td>\n",
       "      <td>15.330638</td>\n",
       "    </tr>\n",
       "    <tr>\n",
       "      <th>min</th>\n",
       "      <td>0.000000</td>\n",
       "      <td>0.000000</td>\n",
       "      <td>0.000000</td>\n",
       "      <td>0.000000</td>\n",
       "      <td>4.000000</td>\n",
       "      <td>0.000000</td>\n",
       "      <td>0.000000</td>\n",
       "      <td>0.000000</td>\n",
       "      <td>0.000000</td>\n",
       "      <td>14.000000</td>\n",
       "      <td>3.000000</td>\n",
       "    </tr>\n",
       "    <tr>\n",
       "      <th>25%</th>\n",
       "      <td>2.000000</td>\n",
       "      <td>1.000000</td>\n",
       "      <td>1.000000</td>\n",
       "      <td>4.000000</td>\n",
       "      <td>30.000000</td>\n",
       "      <td>75.000000</td>\n",
       "      <td>1.000000</td>\n",
       "      <td>1.000000</td>\n",
       "      <td>69.000000</td>\n",
       "      <td>5131.000000</td>\n",
       "      <td>11.000000</td>\n",
       "    </tr>\n",
       "    <tr>\n",
       "      <th>50%</th>\n",
       "      <td>11.000000</td>\n",
       "      <td>3.000000</td>\n",
       "      <td>2.000000</td>\n",
       "      <td>20.000000</td>\n",
       "      <td>41.000000</td>\n",
       "      <td>226.000000</td>\n",
       "      <td>1.000000</td>\n",
       "      <td>1.000000</td>\n",
       "      <td>342.000000</td>\n",
       "      <td>8682.000000</td>\n",
       "      <td>20.000000</td>\n",
       "    </tr>\n",
       "    <tr>\n",
       "      <th>75%</th>\n",
       "      <td>58.000000</td>\n",
       "      <td>20.000000</td>\n",
       "      <td>4.000000</td>\n",
       "      <td>86.000000</td>\n",
       "      <td>51.000000</td>\n",
       "      <td>544.000000</td>\n",
       "      <td>2.000000</td>\n",
       "      <td>2.000000</td>\n",
       "      <td>931.000000</td>\n",
       "      <td>12909.000000</td>\n",
       "      <td>31.000000</td>\n",
       "    </tr>\n",
       "    <tr>\n",
       "      <th>max</th>\n",
       "      <td>341495.000000</td>\n",
       "      <td>279337.000000</td>\n",
       "      <td>3000.000000</td>\n",
       "      <td>557340.000000</td>\n",
       "      <td>146.000000</td>\n",
       "      <td>64124.000000</td>\n",
       "      <td>8.000000</td>\n",
       "      <td>50.000000</td>\n",
       "      <td>1440.000000</td>\n",
       "      <td>47312.000000</td>\n",
       "      <td>132.000000</td>\n",
       "    </tr>\n",
       "  </tbody>\n",
       "</table>\n",
       "</div>"
      ],
      "text/plain": [
       "           additions      deletions  changed_files        changes  \\\n",
       "count   11333.000000   11333.000000   11333.000000   11333.000000   \n",
       "mean      646.326215     465.484779      16.003177    1111.810994   \n",
       "std      8291.635919    6363.613333     137.754640   14073.164104   \n",
       "min         0.000000       0.000000       0.000000       0.000000   \n",
       "25%         2.000000       1.000000       1.000000       4.000000   \n",
       "50%        11.000000       3.000000       2.000000      20.000000   \n",
       "75%        58.000000      20.000000       4.000000      86.000000   \n",
       "max    341495.000000  279337.000000    3000.000000  557340.000000   \n",
       "\n",
       "        title_count    body_count  labels_count  commits_count       latency  \\\n",
       "count  11333.000000  11333.000000  11333.000000   11333.000000  11333.000000   \n",
       "mean      41.502691    603.187064      1.270273       2.670431    506.817171   \n",
       "std       16.031603   2773.376253      0.930290       5.498324    471.634245   \n",
       "min        4.000000      0.000000      0.000000       0.000000      0.000000   \n",
       "25%       30.000000     75.000000      1.000000       1.000000     69.000000   \n",
       "50%       41.000000    226.000000      1.000000       1.000000    342.000000   \n",
       "75%       51.000000    544.000000      2.000000       2.000000    931.000000   \n",
       "max      146.000000  64124.000000      8.000000      50.000000   1440.000000   \n",
       "\n",
       "       pull_requests_neighbours_latency  pull_requests_neighbours_count  \n",
       "count                      11333.000000                    11333.000000  \n",
       "mean                        9613.944763                       22.880261  \n",
       "std                         6216.029588                       15.330638  \n",
       "min                           14.000000                        3.000000  \n",
       "25%                         5131.000000                       11.000000  \n",
       "50%                         8682.000000                       20.000000  \n",
       "75%                        12909.000000                       31.000000  \n",
       "max                        47312.000000                      132.000000  "
      ]
     },
     "execution_count": 72,
     "metadata": {},
     "output_type": "execute_result"
    }
   ],
   "source": [
    "df.describe()"
   ]
  },
  {
   "cell_type": "code",
   "execution_count": 74,
   "metadata": {},
   "outputs": [
    {
     "data": {
      "text/plain": [
       "0.9702638312891556"
      ]
     },
     "execution_count": 74,
     "metadata": {},
     "output_type": "execute_result"
    },
    {
     "data": {
      "image/png": "[encoded data removed]",
      "text/plain": [
       "<matplotlib.figure.Figure at 0x1a16cde550>"
      ]
     },
     "metadata": {},
     "output_type": "display_data"
    }
   ],
   "source": [
    "df.changes.hist(bins=10)\n",
    "pr(df.changes < 2000).sum() / df.shape[0])"
   ]
  },
  {
   "cell_type": "code",
   "execution_count": 73,
   "metadata": {},
   "outputs": [
    {
     "data": {
      "text/plain": [
       "0.9702638312891556"
      ]
     },
     "execution_count": 73,
     "metadata": {},
     "output_type": "execute_result"
    }
   ],
   "source": [
    "df[df.changes < 341495].changes.hist(bins=10)"
   ]
  },
  {
   "cell_type": "code",
   "execution_count": 71,
   "metadata": {},
   "outputs": [
    {
     "data": {
      "text/plain": [
       "11327"
      ]
     },
     "execution_count": 71,
     "metadata": {},
     "output_type": "execute_result"
    }
   ],
   "source": [
    "(df.changes < 341495).sum()"
   ]
  },
  {
   "cell_type": "code",
   "execution_count": null,
   "metadata": {},
   "outputs": [],
   "source": []
  }
 ],
 "metadata": {
  "kernelspec": {
   "display_name": "Python 3",
   "language": "python",
   "name": "python3"
  },
  "language_info": {
   "codemirror_mode": {
    "name": "ipython",
    "version": 3
   },
   "file_extension": ".py",
   "mimetype": "text/x-python",
   "name": "python",
   "nbconvert_exporter": "python",
   "pygments_lexer": "ipython3",
   "version": "3.6.4"
  }
 },
 "nbformat": 4,
 "nbformat_minor": 2
}
